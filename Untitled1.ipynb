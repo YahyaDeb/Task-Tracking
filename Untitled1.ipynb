{
 "cells": [
  {
   "cell_type": "code",
   "execution_count": 1,
   "id": "3eb85782-bb82-4db8-96be-dbdbabbcb1a0",
   "metadata": {},
   "outputs": [
    {
     "name": "stdout",
     "output_type": "stream",
     "text": [
      "✅ Table corrected\n"
     ]
    }
   ],
   "source": [
    "import sqlite3\n",
    "\n",
    "DB_PATH = \"airworthiness.db\"\n",
    "\n",
    "with sqlite3.connect(DB_PATH) as conn:\n",
    "    c = conn.cursor()\n",
    "\n",
    "    c.execute(\"DROP TABLE IF EXISTS shop_entries\")\n",
    "\n",
    "    c.execute(\"\"\"\n",
    "        CREATE TABLE shop_entries (\n",
    "            engine_esn TEXT,\n",
    "            status TEXT,\n",
    "            commentaire TEXT,\n",
    "            date_added TEXT\n",
    "        )\n",
    "    \"\"\")\n",
    "\n",
    "    conn.commit()\n",
    "\n",
    "print(\"✅ Table corrected\")\n"
   ]
  },
  {
   "cell_type": "code",
   "execution_count": 3,
   "id": "3c598795-b269-41bd-92c6-8b00249304e4",
   "metadata": {},
   "outputs": [
    {
     "ename": "SyntaxError",
     "evalue": "invalid syntax (1483884189.py, line 1)",
     "output_type": "error",
     "traceback": [
      "\u001b[1;36m  Cell \u001b[1;32mIn[3], line 1\u001b[1;36m\u001b[0m\n\u001b[1;33m    CREATE TABLE IF NOT EXISTS contracts_tasks (\u001b[0m\n\u001b[1;37m           ^\u001b[0m\n\u001b[1;31mSyntaxError\u001b[0m\u001b[1;31m:\u001b[0m invalid syntax\n"
     ]
    }
   ],
   "source": [
    "CREATE TABLE IF NOT EXISTS contracts_tasks (\n",
    "    id INTEGER PRIMARY KEY AUTOINCREMENT,\n",
    "    engine_esn TEXT,\n",
    "    description TEXT,\n",
    "    due_date TEXT\n",
    ");\n"
   ]
  },
  {
   "cell_type": "code",
   "execution_count": 5,
   "id": "6ce6cf46-b050-4702-89fd-7cae9888e6a9",
   "metadata": {},
   "outputs": [
    {
     "name": "stdout",
     "output_type": "stream",
     "text": [
      "✅ Table contracts_tasks créée (ou déjà existante).\n"
     ]
    }
   ],
   "source": [
    "import sqlite3\n",
    "\n",
    "DB_PATH = \"airworthiness.db\"  # Modifie le chemin si nécessaire\n",
    "\n",
    "with sqlite3.connect(DB_PATH) as conn:\n",
    "    c = conn.cursor()\n",
    "    c.execute(\"\"\"\n",
    "        CREATE TABLE IF NOT EXISTS contracts_tasks (\n",
    "            id INTEGER PRIMARY KEY AUTOINCREMENT,\n",
    "            engine_esn TEXT,\n",
    "            description TEXT,\n",
    "            due_date TEXT\n",
    "        );\n",
    "    \"\"\")\n",
    "    conn.commit()\n",
    "\n",
    "print(\"✅ Table contracts_tasks créée (ou déjà existante).\")\n"
   ]
  },
  {
   "cell_type": "code",
   "execution_count": null,
   "id": "285ca248-e2e1-4162-8f78-1aab1c291575",
   "metadata": {},
   "outputs": [],
   "source": []
  }
 ],
 "metadata": {
  "kernelspec": {
   "display_name": "Python 3 (ipykernel)",
   "language": "python",
   "name": "python3"
  },
  "language_info": {
   "codemirror_mode": {
    "name": "ipython",
    "version": 3
   },
   "file_extension": ".py",
   "mimetype": "text/x-python",
   "name": "python",
   "nbconvert_exporter": "python",
   "pygments_lexer": "ipython3",
   "version": "3.12.4"
  }
 },
 "nbformat": 4,
 "nbformat_minor": 5
}
